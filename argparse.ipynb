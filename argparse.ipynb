{
  "nbformat": 4,
  "nbformat_minor": 0,
  "metadata": {
    "colab": {
      "name": "argparse.ipynb",
      "provenance": [],
      "collapsed_sections": [],
      "authorship_tag": "ABX9TyOkxJXW91zqwJgIOynx97Ss",
      "include_colab_link": true
    },
    "kernelspec": {
      "name": "python3",
      "display_name": "Python 3"
    },
    "language_info": {
      "name": "python"
    }
  },
  "cells": [
    {
      "cell_type": "markdown",
      "metadata": {
        "id": "view-in-github",
        "colab_type": "text"
      },
      "source": [
        "<a href=\"https://colab.research.google.com/github/marschneatcisco/python-notes/blob/main/argparse.ipynb\" target=\"_parent\"><img src=\"https://colab.research.google.com/assets/colab-badge.svg\" alt=\"Open In Colab\"/></a>"
      ]
    },
    {
      "cell_type": "markdown",
      "source": [
        "# **Argparse Tips**\n",
        "\n",
        "\n",
        "*   https://docs.python.org/3/library/argparse.html\n",
        "*   https://realpython.com/command-line-interfaces-python-argparse/\n",
        "\n",
        "\n",
        "\n",
        "\n",
        "\n",
        "\n"
      ],
      "metadata": {
        "id": "LgpLivunnAeK"
      }
    },
    {
      "cell_type": "code",
      "source": [
        "%%writefile parsing.py\n",
        "##### SCRIPT STARTS HERE #####\n",
        "#!usr/bin/bash python\n",
        "# \n",
        "# https://docs.python.org/3/library/argparse.html\n",
        "# https://realpython.com/command-line-interfaces-python-argparse/\n",
        "#\n",
        "import argparse\n",
        "\n",
        "def get_user_input():\n",
        "    desc = 'My description'\n",
        "    lic = 'License info'\n",
        "\n",
        "    my_parser = argparse.ArgumentParser(description=desc, epilog=lic, \n",
        "                                        formatter_class=argparse.RawTextHelpFormatter)\n",
        "\n",
        "    my_parser.add_argument('--username', '-u', action='store', type=str, required=True,\n",
        "                           help='Unity Connection API/CUTI user name')\n",
        "    my_parser.add_argument('--password', '-p', action='store', type=str, required=True,\n",
        "                           help='Unity Connection API/CUTI user password')\n",
        "    my_parser.add_argument('--server', '-s', action='store', type=str, required=True,\n",
        "                           help='Unity Connection server FQDN/IP Address')\n",
        "    my_parser.add_argument('--num_threads', '-th', action='store', type=int, default=4,\n",
        "                           help='Number of simultaneous threads/callers between 1 and 50 (default=4)')\n",
        "    my_parser.add_argument('--call_duration', '-d', action='store', type=int, default=4,\n",
        "                           help='Call duration in seconds (default=4s)')\n",
        "    my_parser.add_argument('--intercallpause', '-i', action='store', type=float, default=0.5,\n",
        "                           help='Time to wait between calls in seconds (default=0.5s)')\n",
        "    my_parser.add_argument('--max_ringcount', '-rc', action='store', type=int, default=1,\n",
        "                           help='Maximum number of rings (default=1)')\n",
        "    my_parser.add_argument('--confirm', '-y', action='store_true',\n",
        "                           help='Confirmation to run with these settings')\n",
        "    my_parser.add_argument('csv_filename',\n",
        "                           metavar='CSV_FILENAME',\n",
        "                           help='Name of the CSV file to import')\n",
        "\n",
        "    args = my_parser.parse_args()\n",
        "\n",
        "    return args\n",
        "\n",
        "\n",
        "if __name__ == \"__main__\":\n",
        "    my_args = get_user_input()\n",
        "    print(my_args)\n"
      ],
      "metadata": {
        "colab": {
          "base_uri": "https://localhost:8080/"
        },
        "id": "lGsdRxz3XDup",
        "outputId": "1f90908f-a960-47b7-c518-d53e261902a4"
      },
      "execution_count": 6,
      "outputs": [
        {
          "output_type": "stream",
          "name": "stdout",
          "text": [
            "Overwriting parsing.py\n"
          ]
        }
      ]
    },
    {
      "cell_type": "code",
      "source": [
        "!python3 parsing.py -h"
      ],
      "metadata": {
        "colab": {
          "base_uri": "https://localhost:8080/"
        },
        "id": "xKfuwIWah5UZ",
        "outputId": "b92fbb97-3e18-4f98-e6b3-70343fb75a1d"
      },
      "execution_count": 7,
      "outputs": [
        {
          "output_type": "stream",
          "name": "stdout",
          "text": [
            "usage: parsing.py [-h] --username USERNAME --password PASSWORD --server SERVER\n",
            "                  [--num_threads NUM_THREADS] [--call_duration CALL_DURATION]\n",
            "                  [--intercallpause INTERCALLPAUSE]\n",
            "                  [--max_ringcount MAX_RINGCOUNT] [--confirm]\n",
            "                  CSV_FILENAME\n",
            "\n",
            "My description\n",
            "\n",
            "positional arguments:\n",
            "  CSV_FILENAME          Name of the CSV file to import\n",
            "\n",
            "optional arguments:\n",
            "  -h, --help            show this help message and exit\n",
            "  --username USERNAME, -u USERNAME\n",
            "                        Unity Connection API/CUTI user name\n",
            "  --password PASSWORD, -p PASSWORD\n",
            "                        Unity Connection API/CUTI user password\n",
            "  --server SERVER, -s SERVER\n",
            "                        Unity Connection server FQDN/IP Address\n",
            "  --num_threads NUM_THREADS, -th NUM_THREADS\n",
            "                        Number of simultaneous threads/callers between 1 and 50 (default=4)\n",
            "  --call_duration CALL_DURATION, -d CALL_DURATION\n",
            "                        Call duration in seconds (default=4s)\n",
            "  --intercallpause INTERCALLPAUSE, -i INTERCALLPAUSE\n",
            "                        Time to wait between calls in seconds (default=0.5s)\n",
            "  --max_ringcount MAX_RINGCOUNT, -rc MAX_RINGCOUNT\n",
            "                        Maximum number of rings (default=1)\n",
            "  --confirm, -y         Confirmation to run with these settings\n",
            "\n",
            "License info\n"
          ]
        }
      ]
    }
  ]
}