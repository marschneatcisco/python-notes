{
  "nbformat": 4,
  "nbformat_minor": 0,
  "metadata": {
    "colab": {
      "name": "argparse.ipynb",
      "provenance": [],
      "collapsed_sections": [],
      "authorship_tag": "ABX9TyO/5te6GP9QZbLHc+siv5u5",
      "include_colab_link": true
    },
    "kernelspec": {
      "name": "python3",
      "display_name": "Python 3"
    },
    "language_info": {
      "name": "python"
    }
  },
  "cells": [
    {
      "cell_type": "markdown",
      "metadata": {
        "id": "view-in-github",
        "colab_type": "text"
      },
      "source": [
        "<a href=\"https://colab.research.google.com/github/marschneatcisco/python-notes/blob/main/argparse.ipynb\" target=\"_parent\"><img src=\"https://colab.research.google.com/assets/colab-badge.svg\" alt=\"Open In Colab\"/></a>"
      ]
    },
    {
      "cell_type": "code",
      "source": [
        "%%writefile parsing.py\n",
        "##### SCRIPT STARTS HERE #####\n",
        "#!usr/bin/bash python\n",
        "#\n",
        "# https://docs.python.org/3/library/argparse.html\n",
        "#\n",
        "import argparse\n",
        "\n",
        "def get_user_input():\n",
        "    desc = ''\n",
        "    lic = ''\n",
        "    my_parser = argparse.ArgumentParser(description=desc, epilog=lic, formatter_class=argparse.RawTextHelpFormatter)\n",
        "\n",
        "    my_parser.add_argument('--username', '-u', action='store', type=str,\n",
        "                           help='Password')\n",
        "    my_parser.add_argument('--password', '-p', action='store', type=str,\n",
        "                           help='Password')\n",
        "    my_parser.add_argument('--cluster', '-c', action='store', nargs='+', type=str,\n",
        "                           help='Cluster (space separated for more than one)')\n",
        "    my_parser.add_argument('--server', '-s', action='store', nargs='+', type=str,\n",
        "                           help='Server FQDN/IP Address (space separated for more than one)')\n",
        "    my_parser.add_argument('--inventory', '-i', action='store', type=str, required=True,\n",
        "                           help='Inventory file (Excel)')\n",
        "\n",
        "    args = my_parser.parse_args()\n",
        "\n",
        "    return args\n",
        "\n",
        "\n",
        "if __name__ == \"__main__\":\n",
        "    my_args = get_user_input()\n",
        "    print(my_args)\n"
      ],
      "metadata": {
        "colab": {
          "base_uri": "https://localhost:8080/"
        },
        "id": "lGsdRxz3XDup",
        "outputId": "d78d293f-91ae-4d61-fc8f-7d574751d93e"
      },
      "execution_count": null,
      "outputs": [
        {
          "output_type": "stream",
          "name": "stdout",
          "text": [
            "Overwriting parsing.py\n"
          ]
        }
      ]
    },
    {
      "cell_type": "code",
      "source": [
        "!python3 parsing.py -i test.file -p C1sco.123"
      ],
      "metadata": {
        "colab": {
          "base_uri": "https://localhost:8080/"
        },
        "id": "xKfuwIWah5UZ",
        "outputId": "d534f548-d70d-45bc-f531-9965f067d685"
      },
      "execution_count": null,
      "outputs": [
        {
          "output_type": "stream",
          "name": "stdout",
          "text": [
            "Namespace(cluster=None, inventory='test.file', password='C1sco.123', server=None, username=None)\n"
          ]
        }
      ]
    }
  ]
}