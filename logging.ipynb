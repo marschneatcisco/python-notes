{
  "nbformat": 4,
  "nbformat_minor": 0,
  "metadata": {
    "colab": {
      "name": "logging.ipynb",
      "provenance": [],
      "authorship_tag": "ABX9TyOC9QinpvG3R+GrxID6jB/e",
      "include_colab_link": true
    },
    "kernelspec": {
      "name": "python3",
      "display_name": "Python 3"
    },
    "language_info": {
      "name": "python"
    }
  },
  "cells": [
    {
      "cell_type": "markdown",
      "metadata": {
        "id": "view-in-github",
        "colab_type": "text"
      },
      "source": [
        "<a href=\"https://colab.research.google.com/github/marschneatcisco/python-notes/blob/main/logging.ipynb\" target=\"_parent\"><img src=\"https://colab.research.google.com/assets/colab-badge.svg\" alt=\"Open In Colab\"/></a>"
      ]
    },
    {
      "cell_type": "code",
      "execution_count": null,
      "metadata": {
        "id": "LK_h92bBC_Yf"
      },
      "outputs": [],
      "source": [
        "# write to file and console\n",
        "import logging\n",
        "\n",
        "def set_logging():\n",
        "    \"\"\"\n",
        "    Set up logging for console and file\n",
        "\n",
        "    :return:\n",
        "    \"\"\"\n",
        "    # Set up logging for logging to file as well as console output\n",
        "    logfile = str(sys.argv[0]).rstrip(\".py\").rstrip(\".exe\") + '-{}.log'.format(strftime('%Y%m%d-%H%M%S'))\n",
        "    FORMAT = '%(asctime)s.%(msecs)03d %(levelname)s %(message)s'\n",
        "    logging.basicConfig(filename=logfile, filemode='w',\n",
        "                        format=FORMAT,\n",
        "                        level=logging.INFO)\n",
        "    console = logging.StreamHandler()\n",
        "    console.setLevel(logging.INFO)\n",
        "    formatter = logging.Formatter('%(asctime)s %(threadName)s %(levelname)s %(message)s')\n",
        "    console.setFormatter(formatter)\n",
        "    logging.getLogger('').addHandler(console)\n"
      ]
    },
    {
      "cell_type": "code",
      "source": [
        "logging.basicConfig(format='%(asctime)s %(levelname)s %(message)s', level=logging.INFO)\n"
      ],
      "metadata": {
        "id": "Lf4LbMubDQU5"
      },
      "execution_count": null,
      "outputs": []
    },
    {
      "cell_type": "code",
      "source": [
        "# Basic logging example\n",
        "# 2022-02-09 16:24:37.270 INFO Logging something ..\n",
        "\n",
        "import logging\n",
        "\n",
        "FORMAT = '%(asctime)s.%(msecs)03d %(levelname)s %(message)s'\n",
        "logging.basicConfig(\n",
        "    format=FORMAT, \n",
        "    datefmt='%Y-%m-%d %H:%M:%S',\n",
        "    level=logging.DEBUG\n",
        ") \n",
        "\n",
        "\n"
      ],
      "metadata": {
        "id": "M7OJO8HdBtNC"
      },
      "execution_count": 2,
      "outputs": []
    },
    {
      "cell_type": "code",
      "source": [
        "logging.info(f\"Logging something ..\") "
      ],
      "metadata": {
        "colab": {
          "base_uri": "https://localhost:8080/"
        },
        "id": "t81vf1NXCEwq",
        "outputId": "6b172c11-f7f4-4464-b3a5-96bbcf966b1b"
      },
      "execution_count": 3,
      "outputs": [
        {
          "output_type": "stream",
          "name": "stderr",
          "text": [
            "2022-02-09 16:31:38,405.405 INFO Logging something ..\n"
          ]
        }
      ]
    }
  ]
}