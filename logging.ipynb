{
  "nbformat": 4,
  "nbformat_minor": 0,
  "metadata": {
    "colab": {
      "name": "logging.ipynb",
      "provenance": [],
      "authorship_tag": "ABX9TyO7kMP7qKJccp0/TxuuDsEQ",
      "include_colab_link": true
    },
    "kernelspec": {
      "name": "python3",
      "display_name": "Python 3"
    },
    "language_info": {
      "name": "python"
    }
  },
  "cells": [
    {
      "cell_type": "markdown",
      "metadata": {
        "id": "view-in-github",
        "colab_type": "text"
      },
      "source": [
        "<a href=\"https://colab.research.google.com/github/marschneatcisco/python-notes/blob/main/logging.ipynb\" target=\"_parent\"><img src=\"https://colab.research.google.com/assets/colab-badge.svg\" alt=\"Open In Colab\"/></a>"
      ]
    },
    {
      "cell_type": "code",
      "execution_count": 13,
      "metadata": {
        "colab": {
          "base_uri": "https://localhost:8080/"
        },
        "id": "LK_h92bBC_Yf",
        "outputId": "d80bcf71-2160-4a55-ed4d-f5b7e238e279"
      },
      "outputs": [
        {
          "output_type": "stream",
          "name": "stdout",
          "text": [
            "Overwriting logging-test.py\n"
          ]
        }
      ],
      "source": [
        "%%writefile logging-test.py\n",
        "##### SCRIPT STARTS HERE #####\n",
        "\n",
        "# Set up logging for console and file\n",
        "import logging\n",
        "import sys\n",
        "from time import strftime\n",
        "\n",
        "def set_logging(level=logging.DEBUG):\n",
        "    \"\"\"\n",
        "    Set up logging for console and file\n",
        "\n",
        "    :return:\n",
        "    \"\"\"\n",
        "    # Set up logging for logging to file as well as console output\n",
        "    # File name will be something like logging-test-20220210-170756.log\n",
        "    logfile = str(sys.argv[0]).rstrip(\".py\").rstrip(\".exe\") + '-{}.log'.format(strftime('%Y%m%d-%H%M%S'))\n",
        "    FORMAT = '%(asctime)s.%(msecs)03d %(threadName)s %(levelname)s %(message)s'\n",
        "    logging.basicConfig(filename=logfile, filemode='w',\n",
        "                        format=FORMAT,\n",
        "                        level=level)\n",
        "    console = logging.StreamHandler()\n",
        "    console.setLevel(level)\n",
        "    console.setFormatter(logging.Formatter(FORMAT))\n",
        "    logging.getLogger('').addHandler(console)\n",
        "\n",
        "set_logging()\n",
        "logging.info(f\"Logging something to file and console..\")"
      ]
    },
    {
      "cell_type": "code",
      "source": [
        "!python3 logging-test.py"
      ],
      "metadata": {
        "colab": {
          "base_uri": "https://localhost:8080/"
        },
        "id": "3RBHTi38jdJJ",
        "outputId": "2c6b437a-6c5a-4ab3-cb78-48725cd35e10"
      },
      "execution_count": 12,
      "outputs": [
        {
          "output_type": "stream",
          "name": "stdout",
          "text": [
            "2022-02-10 17:07:56,998.998 MainThread INFO Logging something ..\n"
          ]
        }
      ]
    },
    {
      "cell_type": "code",
      "source": [
        "# Another basic logging setup\n",
        "logging.basicConfig(format='%(asctime)s %(levelname)s %(message)s', level=logging.INFO)"
      ],
      "metadata": {
        "id": "Lf4LbMubDQU5"
      },
      "execution_count": null,
      "outputs": []
    },
    {
      "cell_type": "code",
      "source": [
        "# Basic logging example\n",
        "# 2022-02-09 16:24:37.270 INFO Logging something ..\n",
        "\n",
        "import logging\n",
        "\n",
        "FORMAT = '%(asctime)s.%(msecs)03d %(levelname)s %(message)s'\n",
        "logging.basicConfig(\n",
        "    format=FORMAT, \n",
        "    datefmt='%Y-%m-%d %H:%M:%S',\n",
        "    level=logging.DEBUG\n",
        ") \n",
        "logging.info(f\"Logging something ..\") "
      ],
      "metadata": {
        "id": "M7OJO8HdBtNC",
        "colab": {
          "base_uri": "https://localhost:8080/"
        },
        "outputId": "95135b53-f63d-4f28-baec-a54adcc86648"
      },
      "execution_count": 2,
      "outputs": [
        {
          "output_type": "stream",
          "name": "stderr",
          "text": [
            "2022-02-10 17:04:34.735 INFO Logging something ..\n"
          ]
        }
      ]
    },
    {
      "cell_type": "code",
      "source": [
        "logging.info(f\"Logging something else..\") "
      ],
      "metadata": {
        "id": "t81vf1NXCEwq"
      },
      "execution_count": null,
      "outputs": []
    }
  ]
}